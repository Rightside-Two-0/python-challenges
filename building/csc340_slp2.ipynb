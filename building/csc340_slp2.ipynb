{
  "nbformat": 4,
  "nbformat_minor": 0,
  "metadata": {
    "colab": {
      "name": "csc340_slp2.ipynb",
      "provenance": [],
      "collapsed_sections": [
        "JROv1bRD8P1L"
      ]
    },
    "kernelspec": {
      "name": "python3",
      "display_name": "Python 3"
    }
  },
  "cells": [
    {
      "cell_type": "markdown",
      "metadata": {
        "id": "JROv1bRD8P1L",
        "colab_type": "text"
      },
      "source": [
        "#Trident University\n",
        "##CSC340 - Networking and Data Communications\n",
        "###Taught by Dr. Kurt Diesch\n",
        "###Authored by Philip Caputo"
      ]
    },
    {
      "cell_type": "markdown",
      "metadata": {
        "id": "YF4Y7bCt-zOn",
        "colab_type": "text"
      },
      "source": [
        "#Keplars' Law \n",
        "$Period = x^(1.5) / 100$"
      ]
    },
    {
      "cell_type": "markdown",
      "metadata": {
        "id": "arCUbSW5BJIa",
        "colab_type": "text"
      },
      "source": [
        "Example 1\n",
        "\n",
        "What is the period of the Moon, according to Kepler's law?\n",
        "![](https://universe-review.ca/I15-32-CurKepler.png)\n",
        "\n",
        "Period:::: C x distance1.5\n",
        "\n",
        "Here C is a constant approximately equal to 1/100. The period is in seconds and the distance in kilometers.\n",
        "\n",
        "Solution\n",
        "\n",
        "The Moon is located approximately 384,000 km above the Earth. The radius of the Earth is 6,378 km. Applying the formula, we get:\n",
        "$(6,378+384,000)^(1.5) / 100 = 2,439,090 seconds$\n",
        "\n",
        "\n"
      ]
    },
    {
      "cell_type": "code",
      "metadata": {
        "id": "bjFF0EM08HGM",
        "colab_type": "code",
        "colab": {
          "base_uri": "https://localhost:8080/",
          "height": 34
        },
        "outputId": "42a60f41-41a3-455f-c056-0b17a7933ab1"
      },
      "source": [
        "distance = 384000+6378\n",
        "exponential = distance**1.5\n",
        "reduce_100 = exponential / 100\n",
        "reduce_100\n"
      ],
      "execution_count": null,
      "outputs": [
        {
          "output_type": "execute_result",
          "data": {
            "text/plain": [
              "2439090.9910925864"
            ]
          },
          "metadata": {
            "tags": []
          },
          "execution_count": 4
        }
      ]
    },
    {
      "cell_type": "markdown",
      "metadata": {
        "id": "7DHd1W4jllqJ",
        "colab_type": "text"
      },
      "source": [
        "#Format string with commas & only 2 decimal digits"
      ]
    },
    {
      "cell_type": "code",
      "metadata": {
        "id": "vZdy3jPPlMCq",
        "colab_type": "code",
        "colab": {
          "base_uri": "https://localhost:8080/",
          "height": 35
        },
        "outputId": "f3359f8d-7663-44a4-a27f-2b2a28225e6d"
      },
      "source": [
        "'{0:,.2f}'.format(reduce_100) + ' seconds'"
      ],
      "execution_count": null,
      "outputs": [
        {
          "output_type": "execute_result",
          "data": {
            "application/vnd.google.colaboratory.intrinsic+json": {
              "type": "string"
            },
            "text/plain": [
              "'2,439,090.99 seconds'"
            ]
          },
          "metadata": {
            "tags": []
          },
          "execution_count": 7
        }
      ]
    },
    {
      "cell_type": "code",
      "metadata": {
        "id": "jZAq04tQlx5C",
        "colab_type": "code",
        "colab": {
          "base_uri": "https://localhost:8080/",
          "height": 33
        },
        "outputId": "6991a692-bfe2-4a8a-dcd3-f5b56614522f"
      },
      "source": [
        "%%HTML\n",
        "<hr>"
      ],
      "execution_count": null,
      "outputs": [
        {
          "output_type": "display_data",
          "data": {
            "text/html": [
              "<hr>"
            ],
            "text/plain": [
              "<IPython.core.display.HTML object>"
            ]
          },
          "metadata": {
            "tags": []
          }
        }
      ]
    },
    {
      "cell_type": "markdown",
      "metadata": {
        "id": "iihvF7DasOal",
        "colab_type": "text"
      },
      "source": [
        "#Per the assignment: \n",
        "Found data @ https://www.n2yo.com/?s=39077\n",
        "*   Satellite ID: 39077\n",
        "*   kilometers: 1,420\n",
        "\n",
        "\n",
        "\n"
      ]
    },
    {
      "cell_type": "markdown",
      "metadata": {
        "id": "641UfaMZt1-0",
        "colab_type": "text"
      },
      "source": [
        "$$period = (1420+6378)^(1.5) /100$$"
      ]
    },
    {
      "cell_type": "code",
      "metadata": {
        "id": "zkfxd6PRsLVD",
        "colab_type": "code",
        "colab": {
          "base_uri": "https://localhost:8080/",
          "height": 34
        },
        "outputId": "fcc14167-846c-480e-a2cf-5d5f389eaba6"
      },
      "source": [
        "sat_km = 1420\n",
        "earth_radius = 6378\n",
        "distance = sat_km+earth_radius\n",
        "distance"
      ],
      "execution_count": null,
      "outputs": [
        {
          "output_type": "execute_result",
          "data": {
            "text/plain": [
              "7798"
            ]
          },
          "metadata": {
            "tags": []
          },
          "execution_count": 8
        }
      ]
    },
    {
      "cell_type": "code",
      "metadata": {
        "id": "ZG9ggEvEuXsA",
        "colab_type": "code",
        "colab": {
          "base_uri": "https://localhost:8080/",
          "height": 34
        },
        "outputId": "259bf8ee-937b-4da3-ef00-e59a3c0441e2"
      },
      "source": [
        "#continuing with next step:raising to power\n",
        "EXPONENT = 1.5\n",
        "exponential = distance**EXPONENT\n",
        "exponential"
      ],
      "execution_count": null,
      "outputs": [
        {
          "output_type": "execute_result",
          "data": {
            "text/plain": [
              "688612.4117324636"
            ]
          },
          "metadata": {
            "tags": []
          },
          "execution_count": 10
        }
      ]
    },
    {
      "cell_type": "code",
      "metadata": {
        "id": "G-EITn7iu59x",
        "colab_type": "code",
        "colab": {
          "base_uri": "https://localhost:8080/",
          "height": 34
        },
        "outputId": "3f8ca493-a283-4df5-daab-91a4a48f6282"
      },
      "source": [
        "#reduce by 100\n",
        "reduce_100 = exponential / 100\n",
        "reduce_100"
      ],
      "execution_count": null,
      "outputs": [
        {
          "output_type": "execute_result",
          "data": {
            "text/plain": [
              "6886.124117324636"
            ]
          },
          "metadata": {
            "tags": []
          },
          "execution_count": 11
        }
      ]
    },
    {
      "cell_type": "markdown",
      "metadata": {
        "id": "plejJYTBvLgv",
        "colab_type": "text"
      },
      "source": [
        "##We take this to be the number in seconds:"
      ]
    },
    {
      "cell_type": "code",
      "metadata": {
        "id": "W-IK7Y4BvDzg",
        "colab_type": "code",
        "colab": {
          "base_uri": "https://localhost:8080/",
          "height": 35
        },
        "outputId": "d722b325-0758-4c8d-8483-cbce3c5fdbe4"
      },
      "source": [
        "#formatting\n",
        "'{0:,.2f}'.format(reduce_100)+' seconds'"
      ],
      "execution_count": null,
      "outputs": [
        {
          "output_type": "execute_result",
          "data": {
            "application/vnd.google.colaboratory.intrinsic+json": {
              "type": "string"
            },
            "text/plain": [
              "'6,886.12 seconds'"
            ]
          },
          "metadata": {
            "tags": []
          },
          "execution_count": 12
        }
      ]
    },
    {
      "cell_type": "markdown",
      "metadata": {
        "id": "XQtVcgk5vtIw",
        "colab_type": "text"
      },
      "source": [
        "##Well that's some number of seconds huh?  Let's see if we can't reduce that down to something we can recognize."
      ]
    },
    {
      "cell_type": "code",
      "metadata": {
        "id": "WPr1KqTLvWNt",
        "colab_type": "code",
        "colab": {
          "base_uri": "https://localhost:8080/",
          "height": 34
        },
        "outputId": "f22b6b72-6833-4855-89c3-b82612d157a2"
      },
      "source": [
        "# 60 seconds are in every minute so lets divide by 60\n",
        "minutes = reduce_100 / 60\n",
        "minutes"
      ],
      "execution_count": null,
      "outputs": [
        {
          "output_type": "execute_result",
          "data": {
            "text/plain": [
              "114.76873528874394"
            ]
          },
          "metadata": {
            "tags": []
          },
          "execution_count": 13
        }
      ]
    },
    {
      "cell_type": "code",
      "metadata": {
        "id": "3qBs57qVwMCW",
        "colab_type": "code",
        "colab": {
          "base_uri": "https://localhost:8080/",
          "height": 34
        },
        "outputId": "9adfd02a-24b2-4cf4-a94f-2fff839a9d04"
      },
      "source": [
        "#We know that there are 60 minutes in every hour\n",
        "hours = minutes / 60\n",
        "hours"
      ],
      "execution_count": null,
      "outputs": [
        {
          "output_type": "execute_result",
          "data": {
            "text/plain": [
              "1.912812254812399"
            ]
          },
          "metadata": {
            "tags": []
          },
          "execution_count": 14
        }
      ]
    },
    {
      "cell_type": "markdown",
      "metadata": {
        "id": "azgI7YamxH-m",
        "colab_type": "text"
      },
      "source": [
        "##Verify our logic with an assert statement.  If there are any erros something will be displayed as to what went wrong, otherwise no output is good output."
      ]
    },
    {
      "cell_type": "code",
      "metadata": {
        "id": "M8yAiPuQwWQn",
        "colab_type": "code",
        "colab": {}
      },
      "source": [
        "assert hours*60*60 == reduce_100"
      ],
      "execution_count": null,
      "outputs": []
    },
    {
      "cell_type": "markdown",
      "metadata": {
        "id": "yxAUvfKY2UV5",
        "colab_type": "text"
      },
      "source": [
        "##From the [website](https://www.n2yo.com/?s=39077) I was able to find that it says there is an element on their page that says period with a value of 115m - meaning minute I'm sure."
      ]
    },
    {
      "cell_type": "code",
      "metadata": {
        "id": "kVpkqNZO2yCh",
        "colab_type": "code",
        "colab": {
          "base_uri": "https://localhost:8080/",
          "height": 34
        },
        "outputId": "a1601a9e-b92d-4aec-c0b2-ca94e8a3fb4c"
      },
      "source": [
        "#Our calculation was\n",
        "minutes"
      ],
      "execution_count": null,
      "outputs": [
        {
          "output_type": "execute_result",
          "data": {
            "text/plain": [
              "114.76873528874394"
            ]
          },
          "metadata": {
            "tags": []
          },
          "execution_count": 23
        }
      ]
    }
  ]
}